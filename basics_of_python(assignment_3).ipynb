{
  "nbformat": 4,
  "nbformat_minor": 0,
  "metadata": {
    "colab": {
      "provenance": []
    },
    "kernelspec": {
      "name": "python3",
      "display_name": "Python 3"
    },
    "language_info": {
      "name": "python"
    }
  },
  "cells": [
    {
      "cell_type": "code",
      "source": [
        "def is_prime(n):\n",
        "    if n <= 1:\n",
        "        return False\n",
        "    if n == 2 or n == 3:\n",
        "        return True\n",
        "    if n % 2 == 0 or n % 3 == 0:\n",
        "        return False\n",
        "    i = 5\n",
        "    while i * i <= n:\n",
        "        if n % i == 0 or n % (i + 2) == 0:\n",
        "            return False\n",
        "        i += 6\n",
        "    return True\n",
        "\n",
        "\n",
        "number = int(input(\"Enter a number: \"))\n",
        "if is_prime(number):\n",
        "    print(f\"{number} is a prime number.\")\n",
        "else:\n",
        "    print(f\"{number} is not a prime number.\")"
      ],
      "metadata": {
        "colab": {
          "base_uri": "https://localhost:8080/"
        },
        "id": "hKN1IeR1ez3m",
        "outputId": "efe025cd-a1ea-440e-b866-2d53dfc02afa"
      },
      "execution_count": 14,
      "outputs": [
        {
          "output_type": "stream",
          "name": "stdout",
          "text": [
            "Enter a number: 2\n",
            "2 is a prime number.\n"
          ]
        }
      ]
    },
    {
      "cell_type": "markdown",
      "source": [
        "# : Product of Random Numbers"
      ],
      "metadata": {
        "id": "JhXIfgGLi5kV"
      }
    },
    {
      "cell_type": "code",
      "source": [
        "import random\n",
        "\n",
        "def multiplication_quiz():\n",
        "\n",
        "    num1 = random.randint(1, 10)\n",
        "    num2 = random.randint(1, 10)\n",
        "\n",
        "    correct_answer = num1 * num2\n",
        "\n",
        "\n",
        "    user_answer = int(input(f\"What is {num1} * {num2}? \"))\n",
        "\n",
        "\n",
        "    if user_answer == correct_answer:\n",
        "        print(\"Correct! Well done.\")\n",
        "    else:\n",
        "        print(f\"Wrong. The correct answer is {correct_answer}.\")\n",
        "\n",
        "\n",
        "multiplication_quiz()"
      ],
      "metadata": {
        "colab": {
          "base_uri": "https://localhost:8080/"
        },
        "id": "fiNsE6_vfj0C",
        "outputId": "8b5705d5-a7ee-4110-97ca-b155dd308ae0"
      },
      "execution_count": 13,
      "outputs": [
        {
          "output_type": "stream",
          "name": "stdout",
          "text": [
            "What is 10 * 2? 20\n",
            "Correct! Well done.\n"
          ]
        }
      ]
    },
    {
      "cell_type": "markdown",
      "source": [
        "# Squares of Even/Odd Numbers"
      ],
      "metadata": {
        "id": "jph6-N3Pi_Jn"
      }
    },
    {
      "cell_type": "code",
      "source": [
        "for num in range(100, 201):\n",
        "\n",
        "    if num % 2 == 0:\n",
        "\n",
        "        square = num ** 2\n",
        "\n",
        "        print(f\"The square of {num} is {square}\")"
      ],
      "metadata": {
        "colab": {
          "base_uri": "https://localhost:8080/"
        },
        "id": "45uqD9NTf6gT",
        "outputId": "c9b3dfef-919c-4564-f0ee-4385c049ad15"
      },
      "execution_count": 12,
      "outputs": [
        {
          "output_type": "stream",
          "name": "stdout",
          "text": [
            "The square of 100 is 10000\n",
            "The square of 102 is 10404\n",
            "The square of 104 is 10816\n",
            "The square of 106 is 11236\n",
            "The square of 108 is 11664\n",
            "The square of 110 is 12100\n",
            "The square of 112 is 12544\n",
            "The square of 114 is 12996\n",
            "The square of 116 is 13456\n",
            "The square of 118 is 13924\n",
            "The square of 120 is 14400\n",
            "The square of 122 is 14884\n",
            "The square of 124 is 15376\n",
            "The square of 126 is 15876\n",
            "The square of 128 is 16384\n",
            "The square of 130 is 16900\n",
            "The square of 132 is 17424\n",
            "The square of 134 is 17956\n",
            "The square of 136 is 18496\n",
            "The square of 138 is 19044\n",
            "The square of 140 is 19600\n",
            "The square of 142 is 20164\n",
            "The square of 144 is 20736\n",
            "The square of 146 is 21316\n",
            "The square of 148 is 21904\n",
            "The square of 150 is 22500\n",
            "The square of 152 is 23104\n",
            "The square of 154 is 23716\n",
            "The square of 156 is 24336\n",
            "The square of 158 is 24964\n",
            "The square of 160 is 25600\n",
            "The square of 162 is 26244\n",
            "The square of 164 is 26896\n",
            "The square of 166 is 27556\n",
            "The square of 168 is 28224\n",
            "The square of 170 is 28900\n",
            "The square of 172 is 29584\n",
            "The square of 174 is 30276\n",
            "The square of 176 is 30976\n",
            "The square of 178 is 31684\n",
            "The square of 180 is 32400\n",
            "The square of 182 is 33124\n",
            "The square of 184 is 33856\n",
            "The square of 186 is 34596\n",
            "The square of 188 is 35344\n",
            "The square of 190 is 36100\n",
            "The square of 192 is 36864\n",
            "The square of 194 is 37636\n",
            "The square of 196 is 38416\n",
            "The square of 198 is 39204\n",
            "The square of 200 is 40000\n"
          ]
        }
      ]
    },
    {
      "cell_type": "markdown",
      "source": [
        "# exercise 4: Word counter"
      ],
      "metadata": {
        "id": "zwPytQhpgGE8"
      }
    },
    {
      "cell_type": "code",
      "source": [
        "def count_words(input_text):\n",
        "\n",
        "    words = input_text.split()\n",
        "\n",
        "\n",
        "    word_count = len(words)\n",
        "\n",
        "    return word_count\n",
        "\n",
        "\n",
        "input_text = \"This is a sample text. This text will be used to demonstrate the word counter.\"\n",
        "\n",
        "\n",
        "result = count_words(input_text)\n",
        "\n",
        "\n",
        "print(f\"The number of words in the given text is: {result}\")"
      ],
      "metadata": {
        "colab": {
          "base_uri": "https://localhost:8080/"
        },
        "id": "YUn4ua8NgaC-",
        "outputId": "70a23c24-a89e-4b95-fca8-9a0990ce7dfc"
      },
      "execution_count": 11,
      "outputs": [
        {
          "output_type": "stream",
          "name": "stdout",
          "text": [
            "The number of words in the given text is: 15\n"
          ]
        }
      ]
    },
    {
      "cell_type": "markdown",
      "source": [
        "# Check for Palindrome"
      ],
      "metadata": {
        "id": "9B5abjd_hTNm"
      }
    },
    {
      "cell_type": "code",
      "source": [
        "import re\n",
        "\n",
        "def is_palindrome(input_string):\n",
        "\n",
        "    cleaned_string = re.sub(r'[^A-Za-z0-9]', '', input_string).lower()\n",
        "\n",
        "\n",
        "    return cleaned_string == cleaned_string[::-1]\n",
        "\n",
        "\n",
        "input_string = \"racecar\"\n",
        "result = is_palindrome(input_string)\n",
        "\n",
        "print(f\"Is the input string a palindrome? {result}\")"
      ],
      "metadata": {
        "colab": {
          "base_uri": "https://localhost:8080/"
        },
        "id": "hXN0Gsashurr",
        "outputId": "9e9ffc22-9692-4b7d-a047-15a5727a0e4f"
      },
      "execution_count": 10,
      "outputs": [
        {
          "output_type": "stream",
          "name": "stdout",
          "text": [
            "Is the input string a palindrome? True\n"
          ]
        }
      ]
    }
  ]
}