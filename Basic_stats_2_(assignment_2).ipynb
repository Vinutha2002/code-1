{
  "nbformat": 4,
  "nbformat_minor": 0,
  "metadata": {
    "colab": {
      "provenance": []
    },
    "kernelspec": {
      "name": "python3",
      "display_name": "Python 3"
    },
    "language_info": {
      "name": "python"
    }
  },
  "cells": [
    {
      "cell_type": "code",
      "source": [
        "# Importing Libraries\n",
        "import numpy as np\n",
        "import scipy.stats as stats # for statistical functions\n"
      ],
      "metadata": {
        "id": "qeXxSS30TP55"
      },
      "execution_count": null,
      "outputs": []
    },
    {
      "cell_type": "code",
      "source": [
        "data = np.array([1.13, 1.55, 1.43, 0.92, 1.25, 1.36, 1.32, 0.85, 1.07, 1.48, 1.20, 1.33, 1.18, 1.22, 1.29])\n",
        "print(data)"
      ],
      "metadata": {
        "colab": {
          "base_uri": "https://localhost:8080/"
        },
        "id": "3NEGSIQZTgjB",
        "outputId": "f5351bcb-5ad5-4d08-cde4-05ba08e21ce9"
      },
      "execution_count": null,
      "outputs": [
        {
          "output_type": "stream",
          "name": "stdout",
          "text": [
            "[1.13 1.55 1.43 0.92 1.25 1.36 1.32 0.85 1.07 1.48 1.2  1.33 1.18 1.22\n",
            " 1.29]\n"
          ]
        }
      ]
    },
    {
      "cell_type": "code",
      "source": [
        "# To calculate Sample Statistics\n",
        "n = len(data) # To find the length of data\n",
        "mean = np.mean(data) # To find mean of data\n",
        "std_dev = np.std(data,ddof=1) # To find Standard deviation and ddof = 1 for sample std dev\n",
        "df=n-1 # degrees of freedom\n",
        "\n",
        "confidence_interval=0.99\n",
        "# t_critical is the critical value from the t-distribution, 0.995 is the desired confidence level\n",
        "t_critical=stats.t.ppf(0.995,df) # stats.t.ppf for the t-distribution\n",
        "margin_of_error=t_critical*(std_dev/np.sqrt(n)) # To find margin of error\n",
        "\n",
        "# To find lower and upper bound of Confidence interval\n",
        "ci_lower =  mean - margin_of_error\n",
        "ci_upper =  mean + margin_of_error\n",
        "\n",
        "print('Sample standard deviation: ',std_dev)\n",
        "print('Confidence interval lower: ',ci_lower)\n",
        "print('Confidence interval upper: ',ci_upper)\n"
      ],
      "metadata": {
        "colab": {
          "base_uri": "https://localhost:8080/"
        },
        "id": "SpHDjX61UDDb",
        "outputId": "eb31c87d-6103-46a9-dfc3-dfefbc244f25"
      },
      "execution_count": null,
      "outputs": [
        {
          "output_type": "stream",
          "name": "stdout",
          "text": [
            "Sample standard deviation:  0.19316412956959936\n",
            "Confidence interval lower:  1.0901973384384906\n",
            "Confidence interval upper:  1.3871359948948425\n"
          ]
        }
      ]
    },
    {
      "cell_type": "markdown",
      "source": [
        "# **b. Build 99% Confidence Interval Using Known Population Standard Deviation**\n",
        "If it were known that the population standard deviation is 0.2 million characters, construct a 99% confidence interval for the mean number of characters printed before failure.\n"
      ],
      "metadata": {
        "id": "TmElDRFBYLhj"
      }
    },
    {
      "cell_type": "markdown",
      "source": [
        "Rationale:\n",
        "\n",
        "If the population standard deviation (σ) is known to be 0.2 million characters and the sample size is large enough to assume normality, we can use the z-distribution to build the confidence interval.\n",
        "\n"
      ],
      "metadata": {
        "id": "92rnBWIXbnjT"
      }
    },
    {
      "cell_type": "code",
      "source": [
        "# Known population standard deviation\n",
        "population_std_dev = 0.2\n",
        "\n",
        "# z_critical is the critical value from the standard normal distribution, 0.995 is the desired confidence level\n",
        "z_critical = stats.norm.ppf(0.995) # stats.norm.ppf for the normal distribution.\n",
        "margin_of_error = z_critical * (population_std_dev / np.sqrt(n))\n",
        "\n",
        "# To find lower and upper bound of Confidence interval\n",
        "ci_lower = mean - margin_of_error\n",
        "ci_upper = mean + margin_of_error\n",
        "\n",
        "print('Confidence interval lower: ',ci_lower)\n",
        "print('Confidence interval upper: ',ci_upper)"
      ],
      "metadata": {
        "colab": {
          "base_uri": "https://localhost:8080/"
        },
        "id": "2dyRVh9LYSxL",
        "outputId": "2ee4e809-9a4b-4091-c4ef-686a5f36a15a"
      },
      "execution_count": null,
      "outputs": [
        {
          "output_type": "stream",
          "name": "stdout",
          "text": [
            "Confidence interval lower:  1.1056514133957607\n",
            "Confidence interval upper:  1.3716819199375725\n"
          ]
        }
      ]
    },
    {
      "cell_type": "markdown",
      "source": [
        "This calculates the 99% confidence intervals for both tasks and prints the results. Note that we use the stats.t.ppf function for the t-distribution and stats.norm.ppf for the standard normal distribution to find the critical values.\n",
        "\n",
        "**Conclusion**\n",
        "\n",
        "Note that the confidence interval in Task(b) is narrower compared to Task(a), since we have more information (known population standard deviation)."
      ],
      "metadata": {
        "id": "mPw4AUUtb3Mn"
      }
    }
  ]
}